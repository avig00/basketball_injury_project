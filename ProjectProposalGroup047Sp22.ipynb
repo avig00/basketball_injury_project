{
 "cells": [
  {
   "cell_type": "markdown",
   "source": [
    "# COGS 108 - Final Project Proposal"
   ],
   "metadata": {}
  },
  {
   "cell_type": "markdown",
   "source": [
    "# Names\n",
    "\n",
    "- Soham Bhanvadia\n",
    "- Eric Duong\n",
    "- Amogh Vig\n",
    "- Joshua Zhu"
   ],
   "metadata": {}
  },
  {
   "cell_type": "markdown",
   "source": [
    "# Research Question"
   ],
   "metadata": {}
  },
  {
   "cell_type": "markdown",
   "source": [
    "Does the frequency of sport injuries in the NBA increase depending on a player's position or role?"
   ],
   "metadata": {}
  },
  {
   "cell_type": "markdown",
   "source": [
    "# Background and Prior Work (Soham)"
   ],
   "metadata": {}
  },
  {
   "cell_type": "markdown",
   "source": [
    "Basketball is a very physical contact sport where players are constantly making quick movements, turns, jumps, and sprints. As a result of all of this movement, players are likely to get a number of injuries in their muscles, joints, and bones [^UPMC]. This is especially true in the National Basketball Association (NBA) where profesional players are prone to injury and can result in them having to sit out for weeks, months, or even the entire season. This is not only detrimental to the individual, but to the team as well.\n",
    "\n",
    "We wanted to explore if certain postions in basketball are more prone to injury as this would be benificial information to the players, teams, and coaches. Being aware of which positions get injured frequently can be used to encourage players of these positions to be more cautious as well as prepare them (via physical therapy, specific stretches, joint support braces, specialized shoes, drills, etc.) to better avoid getting injured [^Excelsior].\n",
    "\n",
    "Additionally, several studies have explored injury frequency in basketball and have found that factors like age, weight, and height increase chance of injury. Thus, there may be a possible realtionship between player size, position they likely play, and injury frequency [^SIOWFA15]. Another study also found that in adolescent basketball players, shooting guards were most prone to injury followed by centers.[^Vanderlei]\n",
    "\n",
    "[^UPMC]: “Basketball Injuries: Prevention &amp; Training Tips: UPMC.” UPMC Sports Medicine, https://www.upmc.com/services/sports-medicine/for-athletes/basketball#:~:text=The%20most%20common%20high%20school,Knee%20tendonitis.\n",
    "\n",
    "[^Excelsior]: “The 5 Most Common Basketball Injuries and How to Prevent Them.” Excelsior Orthopaedics, 21 Mar. 2016, https://www.excelsiorortho.com/2016/03/21/the-5-most-common-basketball-injuries-and-how-to-prevent-them/. \n",
    "\n",
    "[^SIOWFA15]: aes5559, and aes5559. “SIOWFA15: Science in Our World: Certainty and Controversy.” SiOWfa15 Science in Our World Certainty and Controversy, 11 Dec. 2015, https://sites.psu.edu/siowfa15/2015/12/11/whos-most-likely-to-get-injured-in-the-nba-and-how/. \n",
    "\n",
    "[^Vanderlei]: Vanderlei, Franciele Marques, et al. “Sports Injuries among Adolescent Basketball Players According to Position on the Court.” International Archives of Medicine, BioMed Central, 13 Feb. 2013, https://www.ncbi.nlm.nih.gov/pmc/articles/PMC3599687/. "
   ],
   "metadata": {}
  },
  {
   "cell_type": "markdown",
   "source": [
    "# Hypothesis (Joshua)"
   ],
   "metadata": {}
  },
  {
   "cell_type": "markdown",
   "source": [
    "As Basketball is a fast paced, intense sport that requires vertical height to score baskets, we know that there would be plenty of injuries related to landing incorrectly from jumps as a result of fatigue or a strong defense. Therefore, we hypothesize that the position with the most injuries is the power forward.\n",
    "\n",
    "These players are the ones who drive the ball into a favorable shot position, whether it be by the three-point line or very close to the basket. Players in this role are usually the most reliable shooters, which means plenty of jumping, and defense lining up to block them. There would be many chances for them to face a strong opposition that would have them land unfavorably from a jump, or be physically blocked from a screen, and thus get seriously injured."
   ],
   "metadata": {}
  },
  {
   "cell_type": "markdown",
   "source": [
    "# Data (Eric)"
   ],
   "metadata": {}
  },
  {
   "cell_type": "markdown",
   "source": [
    "*Explain what the ideal dataset you would want to answer this question. (This should include: What variables? How many observations? Who/what/how would these data be collected? How would these data be stored/organized?)*\n",
    "\n",
    "For our project, the ideal dataset would span over a decent period of time (at least 5-10 years), to ensure that we would have enough data on injuries in the NBA. Variables should include the player's name, position/s they play on the court, what kind of injury they got, how long they had to recover for before returning to play (essentially the recovery period), and age of player at the time of injury. We would want at least a 1000 observations over the entire time period. This data would be collected either by the NBA themselves or a reliable third-party organization, and would be collected by monitoring team news and reports to constantly monitor the statuses of all players. This data should ideally be stored in some form of a table format, such as a csv file or another spreadsheet. "
   ],
   "metadata": {}
  },
  {
   "cell_type": "markdown",
   "source": [
    "# Ethics & Privacy (Amogh)"
   ],
   "metadata": {}
  },
  {
   "cell_type": "markdown",
   "source": [
    "*Fill in your ethics & privacy discussion here*\n",
    "\n",
    "It is imperative that ethics are taken into consideration when carrying out this project. The injury history of professional athletes is sensitive information. However, all the data we use for our project is publicly available, and so we will not be violating the privacy of these individuals. Nevertheless, only data pertaining to the positions of these players and their injury history will be used for our analysis. All other inofrormation, such as player names and the team(s) they played for will be left out, since these  factors are not relevant for answering our research question. Additionally, we will exercise caution before suggesting that any given position is more prone to a certain injury by making sure we have enough data to draw such conclusions (enough data points to establish trends). This is important to ensure that this project does not perpetuate any misinformation. Moreover, because there are so many possible other factors that contribute to a player's injury history, such as their physical attributes and personal playing style, we will not attempt to determine a causal link between specific positions and certain injuries. Our goal is not to establish causaility. Our aim is simply to identify trends between basketball positions and specific injuries to visually depict which injuries are most common for each position. We hope that our project will inform both professional and casual players about which injuries they are most likely to experience when playing a certain position so that they can take appropriate precautions. "
   ],
   "metadata": {}
  },
  {
   "cell_type": "markdown",
   "source": [
    "# Team Expectations "
   ],
   "metadata": {}
  },
  {
   "cell_type": "markdown",
   "source": [
    "* Team members will communicate through Facebook Messenger, and on Zoom for conference calls.\n",
    "* Team members will be responsible for their own assigned sections determined during meeting times and during conversation.\n",
    "* Any time there is confusion regarding the project, we consult a TA and each other for a group consensus."
   ],
   "metadata": {}
  },
  {
   "cell_type": "markdown",
   "source": [
    "# Project Timeline Proposal"
   ],
   "metadata": {}
  },
  {
   "cell_type": "markdown",
   "source": [
    "| Meeting Date  | Meeting Time| Completed Before Meeting  | Discuss at Meeting |\n",
    "|---|---|---|---|\n",
    "| 4/11  |  7 PM | Decided on previous final projects to review, come with ideas about what each group did well and didn't do well  | Filled out google form and noted takeaways| \n",
    "| 4/19  |  2 PM | Think of research questions, and other potential subtopics to explore  | Solidified 3 main research questions to explore throughout the rest of the week | \n",
    "| 4/22  |  2 PM |  Do background research on topic | Decided on a research question, finalized all other parts of project proposal | \n",
    "| 5/3   | 2 PM  | Look over datasets, become familiar with all labels | decide how to clean / utilize / merge data |\n",
    "| 5/17  | 2 PM  | Think of potential analyses, think of how to utilize data and visualize data | decide on decisions |\n",
    "| 6/6  | Before 11:59 PM  | finish! | Turn in Final Project & Group Project Surveys |"
   ],
   "metadata": {}
  }
 ],
 "metadata": {
  "kernelspec": {
   "display_name": "Python 3",
   "language": "python",
   "name": "python3"
  },
  "language_info": {
   "codemirror_mode": {
    "name": "ipython",
    "version": 3
   },
   "file_extension": ".py",
   "mimetype": "text/x-python",
   "name": "python",
   "nbconvert_exporter": "python",
   "pygments_lexer": "ipython3",
   "version": "3.8.8"
  }
 },
 "nbformat": 4,
 "nbformat_minor": 2
}
